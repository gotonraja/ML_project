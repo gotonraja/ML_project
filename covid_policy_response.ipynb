{
 "cells": [
  {
   "cell_type": "markdown",
   "metadata": {},
   "source": [
    "#### Import libs"
   ]
  },
  {
   "cell_type": "code",
   "execution_count": null,
   "metadata": {},
   "outputs": [],
   "source": [
    "import pandas as pd\n",
    "import numpy as np\n",
    "import seaborn as sns\n",
    "import matplotlib.pyplot as plt\n",
    "from sklearn.preprocessing import PolynomialFeatures \n",
    "from sklearn.linear_model import LinearRegression\n",
    "from sklearn.model_selection import train_test_split\n",
    "from sklearn.metrics import mean_squared_error\n",
    "sns.set()"
   ]
  },
  {
   "cell_type": "markdown",
   "metadata": {},
   "source": [
    "#### Preprocessing"
   ]
  },
  {
   "cell_type": "code",
   "execution_count": null,
   "metadata": {},
   "outputs": [],
   "source": [
    "# Get Covid Stringency Index data\n",
    "stringency = pd.read_csv('covid-stringency-index.csv')\n",
    "fin_strin = stringency[stringency['Entity'] == 'Finland']\n",
    "fin_strin = fin_strin.drop(['Entity', 'Code'], axis=1)\n",
    "fin_strin['Day'] = pd.to_datetime(fin_strin['Day'], format='%Y-%m-%d')\n",
    "start = fin_strin.iloc[0]['Day']\n",
    "end = fin_strin.iloc[-1]['Day']\n",
    "print(end)\n",
    "\n",
    "# Get Finland covid data\n",
    "global_covid = pd.read_csv('WHO-COVID-19-global-data.csv')\n",
    "fin_covid = global_covid[global_covid['Country'] == 'Finland']\n",
    "fin_covid = fin_covid.drop(\n",
    "    ['Country_code', 'Country', 'WHO_region', 'Cumulative_cases', 'Cumulative_deaths'], axis=1)\n",
    "fin_covid['Date_reported'] = pd.to_datetime(\n",
    "    fin_covid['Date_reported'], format='%Y-%m-%d')\n",
    "\n",
    "# Filter data and combine data\n",
    "mask = (fin_covid['Date_reported'] >= start) & (\n",
    "    fin_covid['Date_reported'] <= end)\n",
    "fin_covid = fin_covid.loc[mask]\n",
    "\n",
    "# Insert this to  col 2\n",
    "strin_values = fin_strin.loc[:, 'stringency_index'].to_numpy()\n",
    "fin_covid.insert(0, 'Stringency_index', strin_values)\n",
    "\n",
    "\n",
    "# Final datapoint\n",
    "fin_covid = fin_covid.drop(['Date_reported'], axis=1)\n",
    "\n",
    "print(\"\\n\", fin_covid.describe())\n",
    "fin_covid.tail()\n"
   ]
  },
  {
   "cell_type": "markdown",
   "metadata": {},
   "source": [
    "### Plotting data"
   ]
  },
  {
   "cell_type": "code",
   "execution_count": null,
   "metadata": {},
   "outputs": [],
   "source": [
    "\n",
    "fig1 = plt.figure(2, figsize=(10,10))\n",
    "plt.xlabel('New_cases')\n",
    "plt.ylabel('New_deaths')\n",
    "plt.plot(fin_covid['New_cases'], fin_covid['New_deaths'], 'o', color='green')\n",
    "plt.show() \n",
    "\n",
    "fig3 = plt.figure(3, figsize=(10,10))\n",
    "plt.xlabel('Stringency_index')\n",
    "plt.ylabel('New_deaths')\n",
    "plt.plot(fin_covid['Stringency_index'], fin_covid['New_deaths'], 'o', color='purple')\n",
    "plt.show()\n"
   ]
  },
  {
   "cell_type": "code",
   "execution_count": null,
   "metadata": {},
   "outputs": [],
   "source": [
    "sns.pairplot(fin_covid)\n"
   ]
  },
  {
   "cell_type": "markdown",
   "metadata": {},
   "source": [
    "### Model and model validation"
   ]
  },
  {
   "cell_type": "code",
   "execution_count": null,
   "metadata": {},
   "outputs": [],
   "source": [
    "# Set features(x) and label(y)\n",
    "features = ['Stringency_index', 'New_cases']\n",
    "label = ['New_deaths']\n",
    "X = fin_covid[features].values.reshape(-1, len(features))\n",
    "y = fin_covid[label].values\n",
    "\n",
    "# Split the dataset into a training and validation set\n",
    "X_train, X_val, y_train, y_val = train_test_split(\n",
    "    X, y, test_size=0.33, random_state=42)\n",
    "\n",
    "# Applied Linear model FIXME:Will be removed later\n",
    "Ln = LinearRegression()\n",
    "Ln.fit(X_train, y_train)\n",
    "y_pred_train = Ln.predict(X_train)\n",
    "tr_error = mean_squared_error(y_train, y_pred_train)\n",
    "\n",
    "y_pred_val = Ln.predict(X_val)\n",
    "val_error = mean_squared_error(y_val, y_pred_val)\n",
    "print(f'Training error: {tr_error} Validation error: {val_error}')\n"
   ]
  },
  {
   "cell_type": "code",
   "execution_count": null,
   "metadata": {},
   "outputs": [],
   "source": [
    "# Apply polynomial\n",
    "degrees = [i for i in range(1,11)]\n",
    "tr_errors = []\n",
    "val_errors = []\n",
    "for degree in degrees:\n",
    "    Ln = LinearRegression(fit_intercept=False)\n",
    "    poly = PolynomialFeatures(degree=degree)\n",
    "\n",
    "    X_train_poly = poly.fit_transform(X_train)\n",
    "    Ln.fit(X_train_poly, y_train)\n",
    "    y_pred_train_poly = Ln.predict(X_train_poly)\n",
    "    tr_error = mean_squared_error(y_train, y_pred_train_poly)\n",
    "    tr_errors.append(tr_error)\n",
    "\n",
    "    X_val_poly = poly.transform(X_val)\n",
    "    y_pred_val_poly = Ln.predict(X_val_poly)\n",
    "    val_error_poly = mean_squared_error(y_val, y_pred_val_poly)\n",
    "    val_errors.append(val_error_poly)\n",
    "    \n",
    "    print(f'Degree: {degree}\\n\\ttr_error: {tr_error}, val_error: {val_error_poly}')\n",
    "\n",
    "fig3, axs = plt.subplots()\n",
    "axs.plot(degrees, tr_errors,  color='red', label='training error')\n",
    "axs.plot(degrees, val_errors, color='blue', label='validation error')\n",
    "axs.set_ylabel('Mean Squared Error (MSE)')\n",
    "axs.legend()"
   ]
  }
 ],
 "metadata": {
  "interpreter": {
   "hash": "901f4ac6f79208f55235e4f776b41dadaf6a890b465b31b40b3bc7043532efcf"
  },
  "kernelspec": {
   "display_name": "Python 3.8.5 64-bit ('base': conda)",
   "language": "python",
   "name": "python3"
  },
  "language_info": {
   "codemirror_mode": {
    "name": "ipython",
    "version": 3
   },
   "file_extension": ".py",
   "mimetype": "text/x-python",
   "name": "python",
   "nbconvert_exporter": "python",
   "pygments_lexer": "ipython3",
   "version": "3.8.5"
  },
  "orig_nbformat": 4
 },
 "nbformat": 4,
 "nbformat_minor": 2
}
