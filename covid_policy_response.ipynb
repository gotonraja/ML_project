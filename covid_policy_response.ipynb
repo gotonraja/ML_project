{
 "cells": [
  {
   "cell_type": "code",
   "execution_count": null,
   "metadata": {},
   "outputs": [],
   "source": [
    "import pandas as pd\n",
    "import numpy as np\n",
    "import seaborn as sns\n",
    "import matplotlib.pyplot as plt\n",
    "from sklearn.linear_model import LinearRegression\n",
    "sns.set()"
   ]
  },
  {
   "cell_type": "markdown",
   "metadata": {},
   "source": [
    "### Read and filter data"
   ]
  },
  {
   "cell_type": "code",
   "execution_count": null,
   "metadata": {},
   "outputs": [],
   "source": [
    "# Get Covid Stringency Index data\n",
    "stringency = pd.read_csv('covid-stringency-index.csv')\n",
    "fin_strin = stringency[stringency['Entity'] == 'Finland']\n",
    "fin_strin = fin_strin.drop(['Entity', 'Code'], axis=1)\n",
    "fin_strin['Day'] = pd.to_datetime(fin_strin['Day'], format='%Y-%m-%d') \n",
    "start = fin_strin.iloc[0]['Day']\n",
    "end = fin_strin.iloc[-1]['Day']\n",
    "print(end)\n",
    "\n",
    "#Get Finland covid data\n",
    "global_covid = pd.read_csv('WHO-COVID-19-global-data.csv')\n",
    "fin_covid = global_covid[global_covid['Country'] == 'Finland']\n",
    "fin_covid = fin_covid.drop(['Country_code', 'Country', 'WHO_region', 'Cumulative_cases','Cumulative_deaths'], axis=1)\n",
    "fin_covid['Date_reported'] = pd.to_datetime(fin_covid['Date_reported'], format='%Y-%m-%d' )\n",
    "\n",
    "# Filter data and combine data\n",
    "mask = (fin_covid['Date_reported'] >= start) & (fin_covid['Date_reported'] <= end)\n",
    "fin_covid = fin_covid.loc[mask]\n",
    "\n",
    "## Insert this to  col 2\n",
    "strin_values = fin_strin.loc[:, 'stringency_index'].to_numpy()\n",
    "days = [i for i in range(fin_covid.shape[0])]\n",
    "fin_covid.insert(0, 'Day', days)\n",
    "fin_covid.insert(1, 'Stringency_index', strin_values)\n",
    "\n",
    "# Final datapoint\n",
    "fin_covid = fin_covid.drop(['Date_reported'], axis=1)\n",
    "\n",
    "print(\"\\n\", fin_covid.describe())\n",
    "fin_covid.tail()\n"
   ]
  },
  {
   "cell_type": "markdown",
   "metadata": {},
   "source": [
    "### Plotting data"
   ]
  },
  {
   "cell_type": "code",
   "execution_count": null,
   "metadata": {},
   "outputs": [],
   "source": [
    "fig1= plt.figure(1, figsize=(10,10))\n",
    "plt.xlabel('Day')\n",
    "plt.ylabel('Stringency_index')\n",
    "plt.plot(fin_covid['Day'], fin_covid['Stringency_index'], '+', color='blue')\n",
    "plt.show()\n",
    "\n",
    "fig2 = plt.figure(2, figsize=(10,10))\n",
    "plt.xlabel('Day')\n",
    "plt.ylabel('New_cases')\n",
    "plt.plot(fin_covid['Day'], fin_covid['New_cases'], '+', color='green')\n",
    "plt.show() \n",
    "\n",
    "fig3 = plt.figure(3, figsize=(10,10))\n",
    "plt.xlabel('Day')\n",
    "plt.ylabel('New_deaths')\n",
    "plt.plot(fin_covid['Day'], fin_covid['New_deaths'], color='purple')\n",
    "plt.show()\n"
   ]
  },
  {
   "cell_type": "code",
   "execution_count": null,
   "metadata": {},
   "outputs": [],
   "source": [
    "sns.pairplot(fin_covid)"
   ]
  },
  {
   "cell_type": "code",
   "execution_count": null,
   "metadata": {},
   "outputs": [],
   "source": []
  }
 ],
 "metadata": {
  "interpreter": {
   "hash": "901f4ac6f79208f55235e4f776b41dadaf6a890b465b31b40b3bc7043532efcf"
  },
  "kernelspec": {
   "display_name": "Python 3.8.5 64-bit ('base': conda)",
   "language": "python",
   "name": "python3"
  },
  "language_info": {
   "codemirror_mode": {
    "name": "ipython",
    "version": 3
   },
   "file_extension": ".py",
   "mimetype": "text/x-python",
   "name": "python",
   "nbconvert_exporter": "python",
   "pygments_lexer": "ipython3",
   "version": "3.8.10"
  },
  "orig_nbformat": 4
 },
 "nbformat": 4,
 "nbformat_minor": 2
}
